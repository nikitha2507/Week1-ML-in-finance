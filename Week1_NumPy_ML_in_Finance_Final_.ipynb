{
  "cells": [
    {
      "cell_type": "markdown",
      "metadata": {
        "id": "1fOUfXXeEvu2"
      },
      "source": [
        "<html> <h1 style=\"font-style:bold; color:blue;\"> Machine Learning in Finance </h1> </html>"
      ]
    },
    {
      "cell_type": "markdown",
      "metadata": {
        "id": "FmSwuXi1Evu3"
      },
      "source": [
        "<html> <h1 style=\"font-style:italic; color:blue;\"> Week-1 </h1> </html>\n"
      ]
    },
    {
      "cell_type": "code",
      "execution_count": 1,
      "metadata": {
        "id": "o2qfJUkjEvu3"
      },
      "outputs": [],
      "source": []
    },
    {
      "cell_type": "markdown",
      "metadata": {
        "id": "xen_30D9Evu3"
      },
      "source": [
        "# NumPy\n",
        "\n",
        "The main python library used in numerical data analysis is NumPy (or Numpy). It is a Linear Algebra Library for Python.  It is a very important library for Data Science with Python mainly because Numpy is incredibly fast, as it has bindings to C libraries.\n",
        "\n",
        "It provides a high-performance multidimensional array object, and tools for working with these arrays.\n",
        "\n",
        "This practical gives only an introduction to Numpy."
      ]
    },
    {
      "cell_type": "markdown",
      "metadata": {
        "id": "VzodVEWaEvu3"
      },
      "source": [
        "## Installation NumPy\n",
        "\n",
        "**In the case of using the Anaconda distribution, the Numpay has already been installed. If you have any problem with Numpay functionality, it is highly recommended to re-install Numpay using the following command:**\n",
        "    \n",
        "    install numpy\n"
      ]
    },
    {
      "cell_type": "markdown",
      "metadata": {
        "id": "z_zCYp9VEvu3"
      },
      "source": [
        "____________________________________________![image.png](attachment:d7dc4e19-f52e-4a93-b2f1-e4cd231d4be9.png)"
      ]
    },
    {
      "cell_type": "code",
      "execution_count": 1,
      "metadata": {
        "id": "0JNw4kokEvu3"
      },
      "outputs": [],
      "source": [
        "import numpy as np"
      ]
    },
    {
      "cell_type": "code",
      "execution_count": 1,
      "metadata": {
        "id": "480kDYEfEvu3"
      },
      "outputs": [],
      "source": []
    },
    {
      "cell_type": "markdown",
      "metadata": {
        "id": "mia9T8B8Evu3"
      },
      "source": [
        "One of the most popular features of the Numpy library is the capability of operations with arrays of different sizes (or ranks).\n",
        "\n",
        "Dimensions of arrays:\n",
        "- vectors - One dimensional arrays,\n",
        "- matrices - Two dimensional arrays,\n",
        "- tensor - Three or more arrays."
      ]
    },
    {
      "cell_type": "markdown",
      "metadata": {
        "id": "7VwLs0RfEvu3"
      },
      "source": [
        "49.png![image.png](attachment:image.png)"
      ]
    },
    {
      "cell_type": "markdown",
      "metadata": {
        "id": "STeTOyAcEvu4"
      },
      "source": [
        "____________________________________________![image.png](attachment:c8b0e131-8ac3-4605-b402-9cca1b5ba9d3.png)"
      ]
    },
    {
      "cell_type": "code",
      "execution_count": 1,
      "metadata": {
        "id": "z7b-Y4gtEvu4"
      },
      "outputs": [],
      "source": []
    },
    {
      "cell_type": "code",
      "execution_count": 1,
      "metadata": {
        "id": "B-37cpPVEvu4"
      },
      "outputs": [],
      "source": []
    },
    {
      "cell_type": "markdown",
      "metadata": {
        "id": "iBizSHiWEvu4"
      },
      "source": [
        "____________________________________________![image.png](attachment:565f7ffe-ea75-4f62-b130-093f60e7e041.png)"
      ]
    },
    {
      "cell_type": "code",
      "execution_count": 1,
      "metadata": {
        "id": "c483dh6vEvu4"
      },
      "outputs": [],
      "source": []
    },
    {
      "cell_type": "code",
      "execution_count": 1,
      "metadata": {
        "id": "1cBQh-CAEvu4"
      },
      "outputs": [],
      "source": []
    },
    {
      "cell_type": "markdown",
      "metadata": {
        "id": "Bwk7CeEQEvu4"
      },
      "source": [
        "____________________________________________![image.png](attachment:cd442ab7-487e-4b31-ab69-0177198e683e.png)"
      ]
    },
    {
      "cell_type": "code",
      "execution_count": 1,
      "metadata": {
        "id": "mJX5nudaEvu4"
      },
      "outputs": [],
      "source": []
    },
    {
      "cell_type": "code",
      "execution_count": 1,
      "metadata": {
        "id": "fSXPQiREEvu4"
      },
      "outputs": [],
      "source": []
    },
    {
      "cell_type": "markdown",
      "metadata": {
        "id": "OnemGXVsEvu4"
      },
      "source": [
        "____________________________________________![image.png](attachment:8acae197-093e-403c-adaa-e2eefa1cca1a.png)"
      ]
    },
    {
      "cell_type": "code",
      "execution_count": 1,
      "metadata": {
        "id": "kXrPexLJEvu4"
      },
      "outputs": [],
      "source": []
    },
    {
      "cell_type": "code",
      "execution_count": 1,
      "metadata": {
        "id": "JP30k567Evu4"
      },
      "outputs": [],
      "source": []
    },
    {
      "cell_type": "markdown",
      "metadata": {
        "id": "F2hgtFOaEvu4"
      },
      "source": [
        "____________________________________________![image.png](attachment:f676ad92-bb1d-49c6-bff6-e4aca2174453.png)"
      ]
    },
    {
      "cell_type": "code",
      "execution_count": 1,
      "metadata": {
        "id": "NCb5hFaYEvu4"
      },
      "outputs": [],
      "source": []
    },
    {
      "cell_type": "code",
      "execution_count": 1,
      "metadata": {
        "id": "qQNaZJ4kEvu4"
      },
      "outputs": [],
      "source": []
    },
    {
      "cell_type": "markdown",
      "metadata": {
        "id": "bjKpO_1aEvu4"
      },
      "source": [
        "____________________________________________![image.png](attachment:193cd9e0-7861-4552-9ac9-237f88534427.png)"
      ]
    },
    {
      "cell_type": "code",
      "execution_count": 1,
      "metadata": {
        "id": "o2ZSceK-Evu4"
      },
      "outputs": [],
      "source": []
    },
    {
      "cell_type": "code",
      "execution_count": 1,
      "metadata": {
        "id": "-lgzig0gEvu4"
      },
      "outputs": [],
      "source": []
    },
    {
      "cell_type": "code",
      "execution_count": 1,
      "metadata": {
        "id": "jvdhZe0QEvu4"
      },
      "outputs": [],
      "source": []
    },
    {
      "cell_type": "markdown",
      "metadata": {
        "id": "mcHmIM6oEvu4"
      },
      "source": [
        "### arange\n",
        "\n",
        "The arange() method is used to return an evenly spaced values within a given interval.\n",
        "The method has the following parameters:\n",
        "- **start** parameter (inclusive in the sequence)  \n",
        "- **end** parameter (exclusive in the sequence)\n",
        "- **step size** (optional parameter used to find the next element in the sequence)\n"
      ]
    },
    {
      "cell_type": "markdown",
      "metadata": {
        "id": "yy5C-N0BEvu5"
      },
      "source": [
        "____________________________________________![image.png](attachment:be72cd71-324f-4b2f-a9eb-9f58864ee035.png)"
      ]
    },
    {
      "cell_type": "code",
      "execution_count": 1,
      "metadata": {
        "id": "4HgmZf0KEvu5"
      },
      "outputs": [],
      "source": []
    },
    {
      "cell_type": "code",
      "execution_count": 1,
      "metadata": {
        "id": "bgsKIYwIEvu5"
      },
      "outputs": [],
      "source": []
    },
    {
      "cell_type": "markdown",
      "metadata": {
        "id": "VGv0DS_-Evu5"
      },
      "source": [
        "____________________________________________![image.png](attachment:793515fa-88f9-471d-bb3d-6b28e65a20c1.png)"
      ]
    },
    {
      "cell_type": "code",
      "execution_count": 1,
      "metadata": {
        "id": "4Me0qGLjEvu5"
      },
      "outputs": [],
      "source": []
    },
    {
      "cell_type": "code",
      "execution_count": 1,
      "metadata": {
        "id": "hOfRDV6iEvu5"
      },
      "outputs": [],
      "source": []
    },
    {
      "cell_type": "code",
      "execution_count": 1,
      "metadata": {
        "id": "XuOyeYggEvu5"
      },
      "outputs": [],
      "source": []
    },
    {
      "cell_type": "markdown",
      "metadata": {
        "id": "4AfAxj3QEvu5"
      },
      "source": [
        "<html> <h3 style=\"font-style:italic; color:blue;\"> Let us compare the performance of Numpay and Python arrays. </h3> </html>"
      ]
    },
    {
      "cell_type": "code",
      "execution_count": 2,
      "metadata": {
        "id": "Z5KDpeGoEvu5"
      },
      "outputs": [],
      "source": [
        "# timeit - executes the code several times and gives statistics."
      ]
    },
    {
      "cell_type": "markdown",
      "metadata": {
        "id": "upiRRVaIEvu5"
      },
      "source": [
        "#### Now just press 'CTRL' and 'ENTER' keys on the next cells."
      ]
    },
    {
      "cell_type": "code",
      "execution_count": 3,
      "metadata": {
        "id": "KLWc2kYJEvu5",
        "outputId": "439ee93e-1611-41f8-8eb5-82f898407cbb",
        "colab": {
          "base_uri": "https://localhost:8080/"
        }
      },
      "outputs": [
        {
          "output_type": "stream",
          "name": "stdout",
          "text": [
            "3.73 µs ± 1.01 µs per loop (mean ± std. dev. of 7 runs, 100000 loops each)\n"
          ]
        }
      ],
      "source": [
        "%timeit np.arange(0, 1000)"
      ]
    },
    {
      "cell_type": "code",
      "execution_count": 4,
      "metadata": {
        "id": "9mv8kwXEEvu5",
        "outputId": "7a203d6d-c93e-47f3-c9a0-6c0cc1706056",
        "colab": {
          "base_uri": "https://localhost:8080/"
        }
      },
      "outputs": [
        {
          "output_type": "stream",
          "name": "stdout",
          "text": [
            "305 ns ± 79.8 ns per loop (mean ± std. dev. of 7 runs, 1000000 loops each)\n"
          ]
        }
      ],
      "source": [
        "%timeit range(0, 1000)"
      ]
    },
    {
      "cell_type": "code",
      "execution_count": 4,
      "metadata": {
        "id": "x2sWC-JhEvu5"
      },
      "outputs": [],
      "source": []
    },
    {
      "cell_type": "markdown",
      "metadata": {
        "id": "rz_CovQpEvu5"
      },
      "source": [
        "<html> <h3 style=\"color:blue;\"> Numpy also provides many functions to create arrays </h3> </html>"
      ]
    },
    {
      "cell_type": "markdown",
      "metadata": {
        "id": "zXXsGGu9Evu5"
      },
      "source": [
        "____________________________________________![image.png](attachment:5644d1a1-af6f-499a-8b57-56e2b163cf07.png)"
      ]
    },
    {
      "cell_type": "code",
      "execution_count": 4,
      "metadata": {
        "id": "yc_yMIGsEvu5"
      },
      "outputs": [],
      "source": []
    },
    {
      "cell_type": "code",
      "execution_count": 4,
      "metadata": {
        "id": "EzNXS5awEvu5"
      },
      "outputs": [],
      "source": []
    },
    {
      "cell_type": "markdown",
      "metadata": {
        "id": "0AR0S-y-Evu6"
      },
      "source": [
        "____________________________________________![image.png](attachment:2b89ec2a-047e-4e58-9ca8-fcb0f4cb6b5b.png)"
      ]
    },
    {
      "cell_type": "code",
      "execution_count": 4,
      "metadata": {
        "id": "QTmbFbPqEvu6"
      },
      "outputs": [],
      "source": []
    },
    {
      "cell_type": "code",
      "execution_count": 4,
      "metadata": {
        "id": "RypA2kKnEvu6"
      },
      "outputs": [],
      "source": []
    },
    {
      "cell_type": "markdown",
      "metadata": {
        "id": "xzpGCq_eEvu6"
      },
      "source": [
        "____________________________________________![image.png](attachment:267a89d5-8030-4262-b0b8-6c744458ad89.png)"
      ]
    },
    {
      "cell_type": "code",
      "execution_count": 4,
      "metadata": {
        "id": "ycs3fmH6Evu6"
      },
      "outputs": [],
      "source": []
    },
    {
      "cell_type": "code",
      "execution_count": 4,
      "metadata": {
        "id": "Nb3aGNwvEvu6"
      },
      "outputs": [],
      "source": []
    },
    {
      "cell_type": "markdown",
      "metadata": {
        "id": "GpzOb1OMEvu6"
      },
      "source": [
        "____________________________________________![image.png](attachment:339d2c8c-51d3-4874-9dd6-ccc57337eeb1.png)"
      ]
    },
    {
      "cell_type": "code",
      "execution_count": 4,
      "metadata": {
        "id": "ouodB26FEvu6"
      },
      "outputs": [],
      "source": []
    },
    {
      "cell_type": "code",
      "execution_count": 4,
      "metadata": {
        "id": "okMVjj4nEvu6"
      },
      "outputs": [],
      "source": []
    },
    {
      "cell_type": "markdown",
      "metadata": {
        "id": "Qmf44nUbEvu6"
      },
      "source": [
        "____________________________________________![image.png](attachment:155cb7d7-48d9-4b79-a551-503d42cca2b9.png)"
      ]
    },
    {
      "cell_type": "code",
      "execution_count": 4,
      "metadata": {
        "id": "RMEdSdP2Evu6"
      },
      "outputs": [],
      "source": []
    },
    {
      "cell_type": "code",
      "execution_count": 4,
      "metadata": {
        "id": "XUKVaFF5Evu6"
      },
      "outputs": [],
      "source": []
    },
    {
      "cell_type": "markdown",
      "metadata": {
        "id": "KIL5vzR-Evu6"
      },
      "source": [
        "____________________________________________![image.png](attachment:46117baf-57b3-493c-b73d-d3255b181220.png)"
      ]
    },
    {
      "cell_type": "code",
      "execution_count": 4,
      "metadata": {
        "id": "yF-TiLRFEvu6"
      },
      "outputs": [],
      "source": []
    },
    {
      "cell_type": "code",
      "execution_count": 4,
      "metadata": {
        "id": "YscZPM9zEvu6"
      },
      "outputs": [],
      "source": []
    },
    {
      "cell_type": "code",
      "execution_count": 4,
      "metadata": {
        "id": "cnHjzOVTEvu6"
      },
      "outputs": [],
      "source": []
    },
    {
      "cell_type": "markdown",
      "metadata": {
        "id": "JkxSayOHEvu6"
      },
      "source": [
        "<html> <h3 style=\"color:blue;\"> Array Indexing </h3> </html>"
      ]
    },
    {
      "cell_type": "markdown",
      "metadata": {
        "id": "BEuuCZ91Evu6"
      },
      "source": [
        "**Slicing:**\n",
        "    Similar to Python lists, numpy arrays can be sliced. Since arrays may be multidimensional, you must specify a slice for each dimension of the array:"
      ]
    },
    {
      "cell_type": "markdown",
      "metadata": {
        "id": "rt0N5Z8CEvu6"
      },
      "source": [
        "..................................................![image.png](attachment:11cabfa7-9787-4a3a-94d5-f27b5089bbea.png)"
      ]
    },
    {
      "cell_type": "code",
      "execution_count": 4,
      "metadata": {
        "id": "eodC33IiEvu6"
      },
      "outputs": [],
      "source": []
    },
    {
      "cell_type": "code",
      "execution_count": 4,
      "metadata": {
        "id": "hXaxQAjAEvu6"
      },
      "outputs": [],
      "source": []
    },
    {
      "cell_type": "markdown",
      "metadata": {
        "id": "yhtpiCF6Evu6"
      },
      "source": [
        "____________________________________________![image.png](attachment:b4086256-1bbb-4e1c-820c-415d37eb11b2.png)"
      ]
    },
    {
      "cell_type": "code",
      "execution_count": 4,
      "metadata": {
        "id": "EHD0l59pEvu6"
      },
      "outputs": [],
      "source": []
    },
    {
      "cell_type": "code",
      "execution_count": 4,
      "metadata": {
        "id": "BuzYEQNGEvu6"
      },
      "outputs": [],
      "source": []
    },
    {
      "cell_type": "markdown",
      "metadata": {
        "id": "miMCD6eAEvu6"
      },
      "source": [
        "____________________________________________![image.png](attachment:f3b12e40-eda9-467d-9711-d9b57f20f6ea.png)"
      ]
    },
    {
      "cell_type": "code",
      "execution_count": 4,
      "metadata": {
        "id": "3A4i4wbREvu6"
      },
      "outputs": [],
      "source": []
    },
    {
      "cell_type": "code",
      "execution_count": 4,
      "metadata": {
        "id": "TBCwQDtaEvu7"
      },
      "outputs": [],
      "source": []
    },
    {
      "cell_type": "markdown",
      "metadata": {
        "id": "QEJT5zNWEvu7"
      },
      "source": [
        "____________________________________________![image.png](attachment:3bf651f2-ee5c-4cf3-a41c-8bbfd13bd70f.png)"
      ]
    },
    {
      "cell_type": "code",
      "execution_count": 4,
      "metadata": {
        "id": "u5HwC9oVEvu7"
      },
      "outputs": [],
      "source": []
    },
    {
      "cell_type": "code",
      "execution_count": 4,
      "metadata": {
        "id": "pyj6b4HREvu7"
      },
      "outputs": [],
      "source": []
    },
    {
      "cell_type": "code",
      "execution_count": 4,
      "metadata": {
        "id": "p9DHta2VEvu7"
      },
      "outputs": [],
      "source": []
    },
    {
      "cell_type": "markdown",
      "metadata": {
        "id": "dWy9YBHUEvu7"
      },
      "source": [
        "<html> <h3 style=\"color:blue;\"> Datatypes </h3> </html>"
      ]
    },
    {
      "cell_type": "markdown",
      "metadata": {
        "id": "XlPZ477QEvu7"
      },
      "source": [
        "Every NumPy array is a grid of elements of the **same type**. Numpy provides a large set of numeric datatypes that you can use to construct arrays. Numpy tries to guess a datatype when you create an array, but you can explicitly specify the type using an optional argument."
      ]
    },
    {
      "cell_type": "markdown",
      "metadata": {
        "id": "y1MA16GREvu7"
      },
      "source": [
        "____________________________________________![image.png](attachment:acf9492f-76d6-451f-90d6-f8af21190883.png)"
      ]
    },
    {
      "cell_type": "code",
      "execution_count": 4,
      "metadata": {
        "id": "FkXVyfkqEvu7"
      },
      "outputs": [],
      "source": []
    },
    {
      "cell_type": "code",
      "execution_count": 4,
      "metadata": {
        "id": "77S6GUQwEvu7"
      },
      "outputs": [],
      "source": []
    },
    {
      "cell_type": "markdown",
      "metadata": {
        "id": "5XWW8eTGEvu7"
      },
      "source": [
        "____________________________________________![image.png](attachment:abd5f58f-2ced-436f-bf31-f5455975721d.png)"
      ]
    },
    {
      "cell_type": "code",
      "execution_count": 4,
      "metadata": {
        "id": "odKMFk1PEvu7"
      },
      "outputs": [],
      "source": []
    },
    {
      "cell_type": "code",
      "execution_count": 4,
      "metadata": {
        "id": "wQiFxGthEvu7"
      },
      "outputs": [],
      "source": []
    },
    {
      "cell_type": "markdown",
      "metadata": {
        "id": "tiUGAMPWEvu7"
      },
      "source": [
        "____________________________________________![image.png](attachment:cc855679-b5ab-4be8-859f-cbecf8a0fbba.png)"
      ]
    },
    {
      "cell_type": "code",
      "execution_count": 4,
      "metadata": {
        "id": "GQZUP_3zEvu7"
      },
      "outputs": [],
      "source": []
    },
    {
      "cell_type": "code",
      "execution_count": 4,
      "metadata": {
        "id": "Vd0SfIPsEvu7"
      },
      "outputs": [],
      "source": []
    },
    {
      "cell_type": "code",
      "execution_count": 4,
      "metadata": {
        "id": "PDQO2afFEvu7"
      },
      "outputs": [],
      "source": []
    },
    {
      "cell_type": "markdown",
      "metadata": {
        "id": "QgZbG0Y8Evu7"
      },
      "source": [
        "<html> <h3 style=\"color:blue;\"> Array Math </h3> </html>"
      ]
    },
    {
      "cell_type": "code",
      "execution_count": 5,
      "metadata": {
        "id": "x-7XHwDwEvu7"
      },
      "outputs": [],
      "source": [
        "# Basic mathematical functions operate elementwise on arrays"
      ]
    },
    {
      "cell_type": "markdown",
      "metadata": {
        "id": "X-4J5u7wEvu7"
      },
      "source": [
        ".....................................................![image.png](attachment:62b9a0d9-3d99-4b14-a8ad-3711111afd5f.png)"
      ]
    },
    {
      "cell_type": "markdown",
      "metadata": {
        "id": "f4HkifQZEvu7"
      },
      "source": [
        "#### Now just press 'CTRL' and 'ENTER' keys on the next cell."
      ]
    },
    {
      "cell_type": "code",
      "execution_count": 6,
      "metadata": {
        "id": "tcTXkxP-Evu7",
        "colab": {
          "base_uri": "https://localhost:8080/"
        },
        "outputId": "97e268c0-54cd-43cd-a859-c65e5cf6fb09"
      },
      "outputs": [
        {
          "output_type": "stream",
          "name": "stdout",
          "text": [
            "[[1. 2.]\n",
            " [3. 4.]] \n",
            "\n",
            "[[5. 6.]\n",
            " [7. 8.]]\n"
          ]
        }
      ],
      "source": [
        "x = np.array([[1,2],[3,4]], dtype=np.float64)\n",
        "y = np.array([[5,6],[7,8]], dtype=np.float64)\n",
        "print(x, '\\n')       # '\\n' - Line break symbol\n",
        "print(y)"
      ]
    },
    {
      "cell_type": "code",
      "execution_count": 6,
      "metadata": {
        "id": "ezxmbi5tEvu7"
      },
      "outputs": [],
      "source": []
    },
    {
      "cell_type": "markdown",
      "metadata": {
        "id": "AWQDCBfcEvu7"
      },
      "source": [
        "____________________________________________![image.png](attachment:c0c48780-516e-48fc-93be-796adc25d912.png)"
      ]
    },
    {
      "cell_type": "code",
      "execution_count": 6,
      "metadata": {
        "id": "2CbL3XrsEvu7"
      },
      "outputs": [],
      "source": []
    },
    {
      "cell_type": "code",
      "execution_count": 6,
      "metadata": {
        "id": "Th-t8kTEEvu7"
      },
      "outputs": [],
      "source": []
    },
    {
      "cell_type": "markdown",
      "metadata": {
        "id": "MC5hgIjIEvu7"
      },
      "source": [
        "____________________________________________![image.png](attachment:07714d60-442c-4abd-b584-a8d7af18d9bb.png)"
      ]
    },
    {
      "cell_type": "code",
      "execution_count": 6,
      "metadata": {
        "id": "X9zHSSImEvu7"
      },
      "outputs": [],
      "source": []
    },
    {
      "cell_type": "code",
      "execution_count": 6,
      "metadata": {
        "id": "oEFJY8oaEvu7"
      },
      "outputs": [],
      "source": []
    },
    {
      "cell_type": "markdown",
      "metadata": {
        "id": "hE7eFqVdEvu8"
      },
      "source": [
        "____________________________________________![image.png](attachment:b6a795f3-e338-490f-a256-39a511082445.png)"
      ]
    },
    {
      "cell_type": "code",
      "execution_count": 6,
      "metadata": {
        "id": "J8BTuoBbEvu8"
      },
      "outputs": [],
      "source": []
    },
    {
      "cell_type": "code",
      "execution_count": 6,
      "metadata": {
        "id": "SoqoMf6jEvu8"
      },
      "outputs": [],
      "source": []
    },
    {
      "cell_type": "markdown",
      "metadata": {
        "id": "YusPwYwMEvu8"
      },
      "source": [
        "____________________________________________![image.png](attachment:3ad4361b-8759-4cf4-acda-29ef1b7d6ffc.png)"
      ]
    },
    {
      "cell_type": "code",
      "execution_count": 6,
      "metadata": {
        "id": "hDKmGMG4Evu8"
      },
      "outputs": [],
      "source": []
    },
    {
      "cell_type": "code",
      "execution_count": 6,
      "metadata": {
        "id": "J_ArtVRJEvu8"
      },
      "outputs": [],
      "source": []
    },
    {
      "cell_type": "markdown",
      "metadata": {
        "id": "CiXy6MMsEvu8"
      },
      "source": [
        "____________________________________________![image.png](attachment:a6875e9c-4f66-42f3-a098-5d810431a65c.png)"
      ]
    },
    {
      "cell_type": "code",
      "execution_count": 6,
      "metadata": {
        "id": "km2mUDVIEvu8"
      },
      "outputs": [],
      "source": []
    },
    {
      "cell_type": "code",
      "execution_count": 6,
      "metadata": {
        "id": "oTA_cje0Evu8"
      },
      "outputs": [],
      "source": []
    },
    {
      "cell_type": "markdown",
      "metadata": {
        "id": "VStgBTOIEvu8"
      },
      "source": [
        "____________________________________________![image.png](attachment:85fe41cf-7053-41c8-af99-29afb236745b.png)"
      ]
    },
    {
      "cell_type": "code",
      "execution_count": 6,
      "metadata": {
        "id": "DdPwd9zBEvu8"
      },
      "outputs": [],
      "source": []
    },
    {
      "cell_type": "markdown",
      "metadata": {
        "id": "dqEJcmH4Evu8"
      },
      "source": [
        "____________________________________________![image.png](attachment:e098f400-88dd-4718-a254-9bad8f1d50a8.png)"
      ]
    },
    {
      "cell_type": "code",
      "execution_count": 6,
      "metadata": {
        "id": "I_KQ0kwxEvu8"
      },
      "outputs": [],
      "source": []
    },
    {
      "cell_type": "code",
      "execution_count": 6,
      "metadata": {
        "id": "ANZV1i7IEvu8"
      },
      "outputs": [],
      "source": []
    },
    {
      "cell_type": "code",
      "execution_count": 6,
      "metadata": {
        "id": "KPYZPb9fEvu8"
      },
      "outputs": [],
      "source": []
    },
    {
      "cell_type": "markdown",
      "metadata": {
        "id": "KPWZLqgYEvu8"
      },
      "source": [
        "<html> <h3 style=\"color:blue;\"> Matrix Multiplication </h3> </html>"
      ]
    },
    {
      "cell_type": "code",
      "execution_count": 7,
      "metadata": {
        "id": "kPDBYBrREvu8"
      },
      "outputs": [],
      "source": [
        "# Note that the above was elementwise multiplication, not matrix multiplication.\n",
        "# To receive the matrix multiplication, we use the dot function."
      ]
    },
    {
      "cell_type": "markdown",
      "metadata": {
        "id": "yG9pxC5YEvu8"
      },
      "source": [
        "#### Now just press 'CTRL' and 'ENTER' keys on the next cell."
      ]
    },
    {
      "cell_type": "code",
      "execution_count": 8,
      "metadata": {
        "id": "AXeaCFb1Evu8",
        "outputId": "23eb87fd-2ef8-4b9a-9c31-df494f1cf683",
        "colab": {
          "base_uri": "https://localhost:8080/"
        }
      },
      "outputs": [
        {
          "output_type": "stream",
          "name": "stdout",
          "text": [
            "[[1 2]\n",
            " [3 4]] \n",
            "\n",
            " [[5 6]\n",
            " [7 8]] \n",
            "\n",
            " [ 9 10] \n",
            "\n",
            " [11 12]\n"
          ]
        }
      ],
      "source": [
        "x = np.array([[1,2],[3,4]])\n",
        "y = np.array([[5,6],[7,8]])\n",
        "\n",
        "v = np.array([9,10])\n",
        "w = np.array([11, 12])\n",
        "print(x, '\\n\\n', y, '\\n\\n', v, '\\n\\n', w)"
      ]
    },
    {
      "cell_type": "markdown",
      "metadata": {
        "id": "ZxQgTpbeEvu8"
      },
      "source": [
        "![image.png](attachment:4775c518-47b9-4860-8f55-196766891597.png)"
      ]
    },
    {
      "cell_type": "markdown",
      "metadata": {
        "id": "1Q-j1edFEvu8"
      },
      "source": [
        "____________________________________________![image.png](attachment:f04b0822-51b3-4ca0-9645-e930c515bb4b.png)"
      ]
    },
    {
      "cell_type": "code",
      "execution_count": 8,
      "metadata": {
        "id": "xh1mkyxiEvu8"
      },
      "outputs": [],
      "source": []
    },
    {
      "cell_type": "code",
      "execution_count": 8,
      "metadata": {
        "id": "xUqI0n64Evu8"
      },
      "outputs": [],
      "source": []
    },
    {
      "cell_type": "markdown",
      "metadata": {
        "id": "1PtSbnOvEvu8"
      },
      "source": [
        "![image.png](attachment:86e4646b-afd4-45a8-bca2-92656bfba0fb.png)"
      ]
    },
    {
      "cell_type": "markdown",
      "metadata": {
        "id": "WhrtqH0mEvu8"
      },
      "source": [
        "Watch this video carefully at **home** and remember how matrices are multiplied\n",
        "\n",
        "https://www.youtube.com/watch?v=2spTnAiQg4M\n"
      ]
    },
    {
      "cell_type": "markdown",
      "metadata": {
        "id": "LXhxSCYTEvu8"
      },
      "source": [
        "____________________________________________![image.png](attachment:fd6fab27-ad50-469c-95af-88d37aa1565c.png)"
      ]
    },
    {
      "cell_type": "code",
      "execution_count": 8,
      "metadata": {
        "id": "EH61rz3zEvu8"
      },
      "outputs": [],
      "source": []
    },
    {
      "cell_type": "code",
      "execution_count": 8,
      "metadata": {
        "id": "PJa5Ay3OEvu8"
      },
      "outputs": [],
      "source": []
    },
    {
      "cell_type": "code",
      "execution_count": 9,
      "metadata": {
        "id": "0b1TL8raEvu8"
      },
      "outputs": [],
      "source": [
        "# an example of matrix multiplication:"
      ]
    },
    {
      "cell_type": "markdown",
      "metadata": {
        "id": "C57KHmbHEvu9"
      },
      "source": [
        "![image.png](attachment:134eb75e-46f0-4059-a113-23d0eb1e4b03.png)"
      ]
    },
    {
      "cell_type": "markdown",
      "metadata": {
        "id": "ILa5s68_Evu9"
      },
      "source": [
        "____________________________________________![image.png](attachment:88ed560c-87be-4ced-bf7e-e8f7f1c9d370.png)"
      ]
    },
    {
      "cell_type": "code",
      "execution_count": 9,
      "metadata": {
        "id": "JQx0eMi3Evu9"
      },
      "outputs": [],
      "source": []
    },
    {
      "cell_type": "code",
      "execution_count": 9,
      "metadata": {
        "id": "-Duf-E_-Evu9"
      },
      "outputs": [],
      "source": []
    },
    {
      "cell_type": "code",
      "execution_count": 9,
      "metadata": {
        "id": "pJYgl8itEvu9"
      },
      "outputs": [],
      "source": []
    },
    {
      "cell_type": "markdown",
      "metadata": {
        "id": "3G9WmTdWEvu9"
      },
      "source": [
        "<html> <h3 style=\"color:blue;\"> Random number array generator </h3> </html>"
      ]
    },
    {
      "cell_type": "markdown",
      "metadata": {
        "id": "mZNNvvEqEvu9"
      },
      "source": [
        "____________________________________________![image.png](attachment:b66acf21-ce8f-41c8-bda0-8446e71611f6.png)"
      ]
    },
    {
      "cell_type": "code",
      "execution_count": 9,
      "metadata": {
        "id": "sWBeNfwCEvu9"
      },
      "outputs": [],
      "source": []
    },
    {
      "cell_type": "code",
      "execution_count": 9,
      "metadata": {
        "id": "JTEhyiY0Evu9"
      },
      "outputs": [],
      "source": []
    },
    {
      "cell_type": "markdown",
      "metadata": {
        "id": "cRUDFqYmEvu9"
      },
      "source": [
        "____________________________________________![image.png](attachment:d502bc7f-c406-47cf-86b0-858b69aa0feb.png)"
      ]
    },
    {
      "cell_type": "code",
      "execution_count": 9,
      "metadata": {
        "id": "vPe-sZXJEvu9"
      },
      "outputs": [],
      "source": []
    },
    {
      "cell_type": "code",
      "execution_count": 9,
      "metadata": {
        "id": "k_OucpXZEvu9"
      },
      "outputs": [],
      "source": []
    },
    {
      "cell_type": "code",
      "execution_count": 9,
      "metadata": {
        "id": "xWFdBTQgEvu9"
      },
      "outputs": [],
      "source": []
    },
    {
      "cell_type": "markdown",
      "metadata": {
        "id": "MQDZvSErEvu9"
      },
      "source": [
        "##### Normal distribution (Gaussian distribution)"
      ]
    },
    {
      "cell_type": "markdown",
      "metadata": {
        "id": "6ob3rFBqEvu9"
      },
      "source": [
        "![image.png](attachment:2a8d6d99-a743-406b-af0b-bded80612de1.png)"
      ]
    },
    {
      "cell_type": "markdown",
      "metadata": {
        "id": "PE005c-IEvu9"
      },
      "source": [
        "______________________![image.png](attachment:197e75d0-c7df-4e33-bbef-34d556c86be8.png)"
      ]
    },
    {
      "cell_type": "code",
      "execution_count": 9,
      "metadata": {
        "id": "5m1Towc0Evu9"
      },
      "outputs": [],
      "source": []
    },
    {
      "cell_type": "code",
      "execution_count": 9,
      "metadata": {
        "id": "hLomQaWIEvu9"
      },
      "outputs": [],
      "source": []
    },
    {
      "cell_type": "markdown",
      "metadata": {
        "id": "Vu_VV-WzEvu9"
      },
      "source": [
        "____________________________________________![image.png](attachment:cd9a9f30-f9b9-42fb-8243-ddb743ee01c3.png)"
      ]
    },
    {
      "cell_type": "code",
      "execution_count": 9,
      "metadata": {
        "id": "dgUT7mTNEvu9"
      },
      "outputs": [],
      "source": []
    },
    {
      "cell_type": "code",
      "execution_count": 9,
      "metadata": {
        "id": "_q8xUmdzEvu9"
      },
      "outputs": [],
      "source": []
    },
    {
      "cell_type": "markdown",
      "metadata": {
        "id": "G6nPpTyxEvu9"
      },
      "source": [
        "____________________________________________![image.png](attachment:998bb937-89a8-416e-99da-0109fb725b6e.png)"
      ]
    },
    {
      "cell_type": "code",
      "execution_count": 9,
      "metadata": {
        "id": "9LoeSh3HEvu9"
      },
      "outputs": [],
      "source": []
    },
    {
      "cell_type": "code",
      "execution_count": 9,
      "metadata": {
        "id": "erJSQBi1Evu9"
      },
      "outputs": [],
      "source": []
    },
    {
      "cell_type": "code",
      "execution_count": 9,
      "metadata": {
        "id": "WBk-FTZxEvu9"
      },
      "outputs": [],
      "source": []
    },
    {
      "cell_type": "markdown",
      "metadata": {
        "id": "M-v7bIr4Evu9"
      },
      "source": [
        "<html> <h3 style=\"color:blue;\"> Reshape </h3> </html>\n",
        "\n",
        "The shape (dimensions) of the array can be changed using the reshape() method\n",
        "This returns an array containing the same data with a new shape."
      ]
    },
    {
      "cell_type": "markdown",
      "metadata": {
        "id": "k_SDPBuHEvu9"
      },
      "source": [
        "____________________________________________![image.png](attachment:288fc1d4-3930-4e62-8ec9-63be664670c3.png)"
      ]
    },
    {
      "cell_type": "code",
      "execution_count": 9,
      "metadata": {
        "id": "nJv4t7BXEvu9"
      },
      "outputs": [],
      "source": []
    },
    {
      "cell_type": "code",
      "execution_count": 9,
      "metadata": {
        "id": "98Elt_PkEvu-"
      },
      "outputs": [],
      "source": []
    },
    {
      "cell_type": "markdown",
      "metadata": {
        "id": "TaLt04GWEvu-"
      },
      "source": [
        "____________________________________________![image.png](attachment:3c35d8d2-17f4-43bc-a513-155af5c09df6.png)"
      ]
    },
    {
      "cell_type": "code",
      "execution_count": 9,
      "metadata": {
        "id": "ZcnbpjpBEvu-"
      },
      "outputs": [],
      "source": []
    },
    {
      "cell_type": "code",
      "execution_count": 9,
      "metadata": {
        "id": "MpFDsPxwEvu-"
      },
      "outputs": [],
      "source": []
    },
    {
      "cell_type": "markdown",
      "metadata": {
        "id": "Pm1utg_GEvu-"
      },
      "source": [
        "____________________________________________![image.png](attachment:2ca2045d-3dba-4c89-aeac-8176014a3cdf.png)"
      ]
    },
    {
      "cell_type": "code",
      "execution_count": 9,
      "metadata": {
        "id": "FOp5IMzrEvu-"
      },
      "outputs": [],
      "source": []
    },
    {
      "cell_type": "code",
      "execution_count": 9,
      "metadata": {
        "id": "QcnbbSD7Evu-"
      },
      "outputs": [],
      "source": []
    },
    {
      "cell_type": "code",
      "execution_count": 9,
      "metadata": {
        "id": "il25222dEvu-"
      },
      "outputs": [],
      "source": []
    },
    {
      "cell_type": "markdown",
      "metadata": {
        "id": "oq46NpOEEvu-"
      },
      "source": [
        "##### Transposing a Matrix"
      ]
    },
    {
      "cell_type": "markdown",
      "metadata": {
        "id": "RZuUF90PEvu-"
      },
      "source": [
        "![image.png](attachment:ae787138-a47b-4140-9bec-99a532903bbd.png)"
      ]
    },
    {
      "cell_type": "markdown",
      "metadata": {
        "id": "JJijeP21Evu-"
      },
      "source": [
        "____________________________________________![image.png](attachment:1e9d411f-d355-4233-9180-639e7659446d.png)"
      ]
    },
    {
      "cell_type": "code",
      "execution_count": 9,
      "metadata": {
        "id": "C6g1cF1pEvu-"
      },
      "outputs": [],
      "source": []
    },
    {
      "cell_type": "code",
      "execution_count": 9,
      "metadata": {
        "id": "k-WPo2CKEvu-"
      },
      "outputs": [],
      "source": []
    },
    {
      "cell_type": "markdown",
      "metadata": {
        "id": "BwJYfpf_Evu-"
      },
      "source": [
        "____________________________________________![image.png](attachment:f5b163a3-7ce4-4100-942b-efc07e220eed.png)"
      ]
    },
    {
      "cell_type": "markdown",
      "metadata": {
        "id": "LJENNp1PEvu-"
      },
      "source": [
        "The command does not create an \"empty\" matrix in the sense of being filled with zeros or having no values. Instead, it returns a new array with the same shape and data type as p, but without initialising the elements — meaning the array elements contain random values that happened to be in memory at the time of allocation"
      ]
    },
    {
      "cell_type": "code",
      "execution_count": 9,
      "metadata": {
        "id": "Xn1KZeLvEvu-"
      },
      "outputs": [],
      "source": []
    },
    {
      "cell_type": "code",
      "execution_count": 9,
      "metadata": {
        "id": "zP-2z2mMEvu-"
      },
      "outputs": [],
      "source": []
    },
    {
      "cell_type": "markdown",
      "metadata": {
        "id": "gis4eISQEvu-"
      },
      "source": [
        "____________________________________________![image.png](attachment:4bc158d4-9ab4-45cb-8f92-48339dd3e6e5.png)"
      ]
    },
    {
      "cell_type": "code",
      "execution_count": 9,
      "metadata": {
        "id": "O12vfPdqEvu-"
      },
      "outputs": [],
      "source": []
    },
    {
      "cell_type": "code",
      "execution_count": 9,
      "metadata": {
        "id": "_lnUH5E_Evu-"
      },
      "outputs": [],
      "source": []
    },
    {
      "cell_type": "code",
      "execution_count": 9,
      "metadata": {
        "id": "hedJsijcEvu-"
      },
      "outputs": [],
      "source": []
    },
    {
      "cell_type": "markdown",
      "metadata": {
        "id": "n7ClCVFZEvu-"
      },
      "source": [
        "<html> <h3 style=\"color:blue;\"> Functions </h3> </html>"
      ]
    },
    {
      "cell_type": "markdown",
      "metadata": {
        "id": "I0UpHqtoEvu-"
      },
      "source": [
        "____________________________________________![image.png](attachment:bf6cf184-57c9-4dd4-bfb2-7def73549040.png)"
      ]
    },
    {
      "cell_type": "code",
      "execution_count": 9,
      "metadata": {
        "id": "wstdW8ZhEvu-"
      },
      "outputs": [],
      "source": []
    },
    {
      "cell_type": "code",
      "execution_count": 9,
      "metadata": {
        "id": "pUclLUt1Evu-"
      },
      "outputs": [],
      "source": []
    },
    {
      "cell_type": "code",
      "execution_count": 10,
      "metadata": {
        "id": "yQIe_hOQEvu-"
      },
      "outputs": [],
      "source": [
        "# Numpy provides many useful functions for performing computations on arrays; one of the most useful is sum:"
      ]
    },
    {
      "cell_type": "markdown",
      "metadata": {
        "id": "5xV0dhw2Evu-"
      },
      "source": [
        "____________________________________________![image.png](attachment:a7779684-6a28-49f0-9c2f-4fab2a79a47e.png)"
      ]
    },
    {
      "cell_type": "code",
      "execution_count": 10,
      "metadata": {
        "id": "5XDjJwumEvu-"
      },
      "outputs": [],
      "source": []
    },
    {
      "cell_type": "code",
      "execution_count": 10,
      "metadata": {
        "id": "_did5mRxEvu-"
      },
      "outputs": [],
      "source": []
    },
    {
      "cell_type": "markdown",
      "metadata": {
        "id": "NOB6vOWTEvu_"
      },
      "source": [
        "____________________________________________![image.png](attachment:26e7377d-c022-4e06-8ade-0f49b2759669.png)"
      ]
    },
    {
      "cell_type": "code",
      "execution_count": 10,
      "metadata": {
        "id": "LpSUEHF4Evu_"
      },
      "outputs": [],
      "source": []
    },
    {
      "cell_type": "code",
      "execution_count": 10,
      "metadata": {
        "id": "etpTjeTsEvu_"
      },
      "outputs": [],
      "source": []
    },
    {
      "cell_type": "markdown",
      "metadata": {
        "id": "22lBZZ1kEvu_"
      },
      "source": [
        "____________________________________________![image.png](attachment:e7c61121-ac0a-43d5-a824-f12b26e99c73.png)"
      ]
    },
    {
      "cell_type": "code",
      "execution_count": 10,
      "metadata": {
        "id": "5A5ojxK7Evu_"
      },
      "outputs": [],
      "source": []
    },
    {
      "cell_type": "code",
      "execution_count": 10,
      "metadata": {
        "id": "tYbfGi8_Evu_"
      },
      "outputs": [],
      "source": []
    },
    {
      "cell_type": "markdown",
      "metadata": {
        "id": "XpGzVSFPEvu_"
      },
      "source": [
        "____________________________________________![image.png](attachment:0d80160c-983f-4bcf-9a16-6ce6911f9d4e.png)"
      ]
    },
    {
      "cell_type": "code",
      "execution_count": 10,
      "metadata": {
        "id": "RykXsPpMEvu_"
      },
      "outputs": [],
      "source": []
    },
    {
      "cell_type": "code",
      "execution_count": 10,
      "metadata": {
        "id": "k-Qb_gbUEvu_"
      },
      "outputs": [],
      "source": []
    },
    {
      "cell_type": "markdown",
      "metadata": {
        "id": "Vvswt5XqEvu_"
      },
      "source": [
        "____________________________________________![image.png](attachment:16c464a1-f29f-4bd6-8de8-e86eab73c66d.png)"
      ]
    },
    {
      "cell_type": "code",
      "execution_count": 10,
      "metadata": {
        "id": "8uGNBP9VEvu_"
      },
      "outputs": [],
      "source": []
    },
    {
      "cell_type": "code",
      "execution_count": 10,
      "metadata": {
        "id": "3Jt6yq6lEvu_"
      },
      "outputs": [],
      "source": []
    },
    {
      "cell_type": "markdown",
      "metadata": {
        "id": "uzuQpooSEvu_"
      },
      "source": [
        "____________________________________________![image.png](attachment:7ed980b3-88aa-43ee-a31d-3d664d24d492.png)"
      ]
    },
    {
      "cell_type": "code",
      "execution_count": 10,
      "metadata": {
        "id": "re4bOHqMEvu_"
      },
      "outputs": [],
      "source": []
    },
    {
      "cell_type": "code",
      "execution_count": 10,
      "metadata": {
        "id": "JuNdu8PREvu_"
      },
      "outputs": [],
      "source": []
    },
    {
      "cell_type": "markdown",
      "metadata": {
        "id": "22Aiw9rtEvu_"
      },
      "source": [
        "____________________________________________![image.png](attachment:7ca34411-c78a-4d05-8f4b-64459220ad88.png)"
      ]
    },
    {
      "cell_type": "code",
      "execution_count": 10,
      "metadata": {
        "id": "wLjKuDoTEvu_"
      },
      "outputs": [],
      "source": []
    },
    {
      "cell_type": "code",
      "execution_count": 10,
      "metadata": {
        "id": "V64tBleIEvu_"
      },
      "outputs": [],
      "source": []
    },
    {
      "cell_type": "code",
      "execution_count": 10,
      "metadata": {
        "id": "HlnT-gJCEvu_"
      },
      "outputs": [],
      "source": []
    },
    {
      "cell_type": "markdown",
      "metadata": {
        "id": "8QMKKUutEvu_"
      },
      "source": [
        "<html> <h3 style=\"color:blue;\"> Shape </h3> </html>"
      ]
    },
    {
      "cell_type": "markdown",
      "metadata": {
        "id": "QiKjqVkMEvu_"
      },
      "source": [
        "The size of a Numpy array can be retrieved using the attribute named \"shape\". Please note it is not a method. Attribute does not use \"()\" when evoked."
      ]
    },
    {
      "cell_type": "markdown",
      "metadata": {
        "id": "UgSjvKBJEvu_"
      },
      "source": [
        "____________________________________________![image.png](attachment:c1e69ea3-9843-4361-87d3-39c77f8936e4.png)"
      ]
    },
    {
      "cell_type": "code",
      "execution_count": 10,
      "metadata": {
        "id": "W2iE-KAJEvu_"
      },
      "outputs": [],
      "source": []
    },
    {
      "cell_type": "code",
      "execution_count": 10,
      "metadata": {
        "id": "TddLTaJjEvu_"
      },
      "outputs": [],
      "source": []
    },
    {
      "cell_type": "markdown",
      "metadata": {
        "id": "2310LFjGEvu_"
      },
      "source": [
        "____________________________________________![image.png](attachment:53dde3eb-9adf-400d-9d8b-e94692a80ef5.png)"
      ]
    },
    {
      "cell_type": "code",
      "execution_count": 10,
      "metadata": {
        "id": "9iPQpV0eEvu_"
      },
      "outputs": [],
      "source": []
    },
    {
      "cell_type": "markdown",
      "metadata": {
        "id": "QCYKY2ULEvu_"
      },
      "source": [
        "The shape of an array can be changed with various commands. Note that the following three commands all return a modified array, but do not change the original array:"
      ]
    },
    {
      "cell_type": "markdown",
      "metadata": {
        "id": "O7A0CExBEvu_"
      },
      "source": [
        "____________________________________________![image.png](attachment:d481818b-d0c0-4c0b-8443-2369390cc1fa.png)"
      ]
    },
    {
      "cell_type": "code",
      "execution_count": 10,
      "metadata": {
        "id": "4UlXVCaIEvvA"
      },
      "outputs": [],
      "source": []
    },
    {
      "cell_type": "code",
      "execution_count": 10,
      "metadata": {
        "id": "FV7GAqzIEvvA"
      },
      "outputs": [],
      "source": []
    },
    {
      "cell_type": "markdown",
      "metadata": {
        "id": "HBnhNnt0EvvA"
      },
      "source": [
        "____________________________________________![image.png](attachment:e9a52f60-26dc-4230-97e6-b877ed8e8bba.png)"
      ]
    },
    {
      "cell_type": "code",
      "execution_count": 10,
      "metadata": {
        "id": "-sNutewHEvvA"
      },
      "outputs": [],
      "source": []
    },
    {
      "cell_type": "code",
      "execution_count": 10,
      "metadata": {
        "id": "r-QWyYRxEvvA"
      },
      "outputs": [],
      "source": []
    },
    {
      "cell_type": "markdown",
      "metadata": {
        "id": "hz4R3tKqEvvA"
      },
      "source": [
        "____________________________________________![image.png](attachment:4ac28c80-ba5d-4357-a3e7-6fba7fc3d9f4.png)"
      ]
    },
    {
      "cell_type": "code",
      "execution_count": 10,
      "metadata": {
        "id": "RGv0SC4zEvvA"
      },
      "outputs": [],
      "source": []
    },
    {
      "cell_type": "code",
      "execution_count": 10,
      "metadata": {
        "id": "3bJWkJEQEvvA"
      },
      "outputs": [],
      "source": []
    },
    {
      "cell_type": "code",
      "execution_count": 10,
      "metadata": {
        "id": "dG7KGcISEvvA"
      },
      "outputs": [],
      "source": []
    },
    {
      "cell_type": "markdown",
      "metadata": {
        "id": "MQ5fMFpIEvvA"
      },
      "source": [
        "Change matrix a to **2-d** array with 1 column. Notice the two sets of brackets for a 2-d array with one column.\n",
        "\n",
        "Save it in another array.\n",
        "\n",
        "Check the shape attribute value."
      ]
    },
    {
      "cell_type": "markdown",
      "metadata": {
        "id": "kYfg-5lDEvvA"
      },
      "source": [
        "____________________________________________![image.png](attachment:a3063539-2ef1-4ae3-a392-e9baf8ab8ca3.png)"
      ]
    },
    {
      "cell_type": "code",
      "execution_count": 10,
      "metadata": {
        "id": "2P4JqgUJEvvA"
      },
      "outputs": [],
      "source": []
    },
    {
      "cell_type": "code",
      "execution_count": 10,
      "metadata": {
        "id": "8LAXn7rIEvvA"
      },
      "outputs": [],
      "source": []
    },
    {
      "cell_type": "markdown",
      "metadata": {
        "id": "--y9_1EaEvvA"
      },
      "source": [
        "<html> <h3 style=\"font-style:italic; color:#FF0000;\"> (!) From the point of view of mathematics - this is a 1-d vector.\n",
        "However, in terms of Numpy, it is a 2-dimensional array.\n",
        "</h3> </html>"
      ]
    },
    {
      "cell_type": "code",
      "execution_count": 10,
      "metadata": {
        "id": "lWMhLmNMEvvA"
      },
      "outputs": [],
      "source": []
    },
    {
      "cell_type": "markdown",
      "metadata": {
        "id": "WskoeRAiEvvA"
      },
      "source": [
        "# Lab Logbook Requirement:"
      ]
    },
    {
      "cell_type": "markdown",
      "metadata": {
        "id": "qDOuJHP_EvvA"
      },
      "source": [
        "<html> <h3 style=\"font-style:italic; color:blue;\">\n",
        "1) Create a vector using np.arange.\n",
        "\n",
        "Determine the number of the vector elements using the following method: Take the last two digits from your SID. It should be from 00 to 99. If this number is 10 or more, it becomes the required number of the vector elements. If it is less than 10, add 100 to your number.\n",
        "\n",
        "For example, if your SID is 2287467, and the last two digits are 67, which is greater than 10. The required number is 67. If your SID is 2287407, and the last two digits are 07, which is less than 10. The required number is 107.\n",
        "\n",
        "Then,\n",
        "\n",
        "2) Change matrix a to 2-d array with 1 row. Print the array.\n",
        "You should have the two sets of brackets for a 2-d array with one row.\n",
        "3) Save it in another array. Print the array.\n",
        "4) Check the shape attribute value.\n",
        "5) Add the code and result to your Lab Logbook\n",
        "</h3> </html>"
      ]
    },
    {
      "cell_type": "markdown",
      "metadata": {
        "id": "HqJZlr6XEvvA"
      },
      "source": [
        "<html> <h3 style=\"color:red;\">\n",
        "NOTE: DON'T FORGET TO SAVE AND BACK UP YOUR COMPLETED JUPYTER NOTEBOOK AND LAB LOGBOOK ON GITHUB OR ONEDRIVE.\n",
        "</h3> </html>"
      ]
    },
    {
      "cell_type": "code",
      "execution_count": 11,
      "metadata": {
        "id": "qDgJ6BgUEvvA",
        "colab": {
          "base_uri": "https://localhost:8080/"
        },
        "outputId": "4089d126-9b12-47e5-8b0b-57f53430691b"
      },
      "outputs": [
        {
          "output_type": "stream",
          "name": "stdout",
          "text": [
            "num of ele: 75\n",
            "vector ele of a: [ 0  1  2  3  4  5  6  7  8  9 10 11 12 13 14 15 16 17 18 19 20 21 22 23\n",
            " 24 25 26 27 28 29 30 31 32 33 34 35 36 37 38 39 40 41 42 43 44 45 46 47\n",
            " 48 49 50 51 52 53 54 55 56 57 58 59 60 61 62 63 64 65 66 67 68 69 70 71\n",
            " 72 73 74]\n",
            "2d array with one row:\n",
            " [[ 0  1  2  3  4  5  6  7  8  9 10 11 12 13 14 15 16 17 18 19 20 21 22 23\n",
            "  24 25 26 27 28 29 30 31 32 33 34 35 36 37 38 39 40 41 42 43 44 45 46 47\n",
            "  48 49 50 51 52 53 54 55 56 57 58 59 60 61 62 63 64 65 66 67 68 69 70 71\n",
            "  72 73 74]]\n",
            "copied array:\n",
            " [[ 0  1  2  3  4  5  6  7  8  9 10 11 12 13 14 15 16 17 18 19 20 21 22 23\n",
            "  24 25 26 27 28 29 30 31 32 33 34 35 36 37 38 39 40 41 42 43 44 45 46 47\n",
            "  48 49 50 51 52 53 54 55 56 57 58 59 60 61 62 63 64 65 66 67 68 69 70 71\n",
            "  72 73 74]]\n",
            "shape: (1, 75)\n"
          ]
        }
      ],
      "source": [
        "import numpy as np\n",
        "\n",
        "import numpy as np\n",
        "SID = 2453375\n",
        "\n",
        "Digit = SID%100\n",
        "\n",
        "\n",
        "if Digit <10:\n",
        "    n= Digit + 100\n",
        "else:\n",
        "\n",
        "    n= Digit\n",
        "\n",
        "print(\"num of ele:\",n)\n",
        "\n",
        "\n",
        "x=np.arange(n)\n",
        "print(\"vector ele of a:\",x)\n",
        "\n",
        "x_2d=x.reshape(1,-1)\n",
        "print(\"2d array with one row:\\n\",x_2d)\n",
        "\n",
        "y=x_2d.copy()\n",
        "print(\"copied array:\\n\",y)\n",
        "\n",
        "print(\"shape:\",y.shape)"
      ]
    },
    {
      "cell_type": "code",
      "source": [],
      "metadata": {
        "id": "GkwhKNCJk5TU"
      },
      "execution_count": null,
      "outputs": []
    }
  ],
  "metadata": {
    "kernelspec": {
      "display_name": "Python [conda env:anaconda3]",
      "language": "python",
      "name": "conda-env-anaconda3-py"
    },
    "language_info": {
      "codemirror_mode": {
        "name": "ipython",
        "version": 3
      },
      "file_extension": ".py",
      "mimetype": "text/x-python",
      "name": "python",
      "nbconvert_exporter": "python",
      "pygments_lexer": "ipython3",
      "version": "3.12.7"
    },
    "colab": {
      "provenance": []
    }
  },
  "nbformat": 4,
  "nbformat_minor": 0
}